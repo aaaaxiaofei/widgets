{
 "cells": [
  {
   "cell_type": "markdown",
   "id": "2b526dd8",
   "metadata": {},
   "source": [
    "# Define helper functions"
   ]
  },
  {
   "cell_type": "code",
   "execution_count": 1,
   "id": "76445eb8",
   "metadata": {},
   "outputs": [],
   "source": [
    "operation_map = {'top_clockwise': ([1, 2, 3, 4, 5, 6, 9, 10, 13, 14, 17, 18], [2, 4, 1, 3, 17, 18, 5, 6, 9, 10, 13, 14]),\n",
    "                 'top_counter_clockwise': ([2, 4, 1, 3, 17, 18, 5, 6, 9, 10, 13, 14] ,  [1, 2, 3, 4, 5, 6, 9, 10, 13, 14, 17, 18]),\n",
    "                 'front_clockwise': ([5, 6, 7, 8, 3, 4, 9, 11, 21, 22, 18, 20],[6, 8, 5, 7, 9, 11, 22, 21, 18, 20, 4, 3]),\n",
    "                 'front_counter_clockwise': ([6, 8, 5, 7, 9, 11, 22, 21, 18, 20, 4, 3], [5, 6, 7, 8, 3, 4, 9, 11, 21, 22, 18, 20]),\n",
    "                 'right_clockwise': ([9, 10, 11, 12, 2, 4, 6, 8, 13, 15, 22, 24], [10, 12, 9, 11, 15, 13, 2, 4, 24, 22, 6, 8]),\n",
    "                 'right_counter_clockwise': ([10, 12, 9, 11, 15, 13, 2, 4, 24, 22, 6, 8], [9, 10, 11, 12, 2, 4, 6, 8, 13, 15, 22, 24])}"
   ]
  },
  {
   "cell_type": "code",
   "execution_count": 2,
   "id": "90190252",
   "metadata": {},
   "outputs": [],
   "source": [
    "def move(cube_str, from_pos, to_pos):\n",
    "    cube_list = list(cube_str)\n",
    "    values = []\n",
    "    for pos in from_pos:\n",
    "        values.append(cube_list[pos-1])\n",
    "    for i in range(len(values)):\n",
    "        cube_list[to_pos[i]-1] = values[i]\n",
    "    return ''.join(cube_list)"
   ]
  },
  {
   "cell_type": "code",
   "execution_count": 3,
   "id": "a883b72f",
   "metadata": {},
   "outputs": [],
   "source": [
    "def is_solved(cube_str):\n",
    "    for i in range(0, 24, 4):\n",
    "        color_in_plain = set(list(cube_str[i:(i+4)]))\n",
    "        if len(color_in_plain) > 1:\n",
    "            return False\n",
    "    return True"
   ]
  },
  {
   "cell_type": "markdown",
   "id": "1e52c3cf",
   "metadata": {},
   "source": [
    "# Define Rubik's Cube Solver"
   ]
  },
  {
   "cell_type": "code",
   "execution_count": 6,
   "id": "3c8ee425",
   "metadata": {},
   "outputs": [],
   "source": [
    "def solve_rubic_cube(cube_str):\n",
    "    # Check validity of the input string\n",
    "    if len(cube_str) != 24:\n",
    "        raise Exception(f'Invalid input {cube_str}.')\n",
    "    for c in 'rgbwoy':\n",
    "        if len([x for x in cube_str if x == 'w']) != 4:\n",
    "            raise Exception(f'Invalid input {cube_str}.')\n",
    "    \n",
    "    # Check whether the input is already solved\n",
    "    if is_solved(cube_str):\n",
    "        return cube_str\n",
    "    \n",
    "    level = 0\n",
    "    cube_str_list = [cube_str]\n",
    "    visited = set()\n",
    "    # BFS\n",
    "    while True:\n",
    "        level += 1\n",
    "        if level > 12:\n",
    "            return '' # Exceeded BFS Limit\n",
    "        new_cube_str_list = []\n",
    "        for full_c_str in cube_str_list:\n",
    "            c_str = full_c_str[-24:]\n",
    "            pre_ops = full_c_str[:-24]\n",
    "            visited.add(c_str)\n",
    "            for operation, (from_pos, to_pos) in operation_map.items():\n",
    "                new_cube_str = move(c_str, from_pos, to_pos)\n",
    "                if is_solved(new_cube_str):\n",
    "                    return pre_ops + \",\" + operation + \",\" + new_cube_str\n",
    "                if new_cube_str not in visited:\n",
    "                    new_cube_str_list.append(pre_ops + \",\" + operation + \",\" + new_cube_str)\n",
    "        cube_str_list = new_cube_str_list\n",
    "        print(cube_str_list)\n",
    "\n",
    "    return level"
   ]
  },
  {
   "cell_type": "markdown",
   "id": "a017f8fa",
   "metadata": {},
   "source": [
    "# Test Case"
   ]
  },
  {
   "cell_type": "code",
   "execution_count": 165,
   "id": "a544f425",
   "metadata": {},
   "outputs": [
    {
     "name": "stdout",
     "output_type": "stream",
     "text": [
      "The cube is solved in 0 steps: \n"
     ]
    }
   ],
   "source": [
    "cube_str = 'wwwwrrrrbbbbooooggggyyyy'\n",
    "steps = solve_rubic_cube(cube_str)\n",
    "if steps == '':\n",
    "    print(f\"The cube {cube_str} cannot be solved in 12 steps.\")\n",
    "operations = [ops for ops in steps[:-24].split(',') if ops != '']\n",
    "print(f\"The cube is solved in {len(operations)} steps: {','.join(operations)}\")"
   ]
  },
  {
   "cell_type": "code",
   "execution_count": 166,
   "id": "e9ca8388",
   "metadata": {},
   "outputs": [
    {
     "name": "stdout",
     "output_type": "stream",
     "text": [
      "The cube is solved in 1 steps: front_counter_clockwise\n"
     ]
    }
   ],
   "source": [
    "cube_str = 'wwggrrrrwbwboooogygybbyy'\n",
    "steps = solve_rubic_cube(cube_str)\n",
    "if steps == '':\n",
    "    print(f\"The cube {cube_str} cannot be solved in 12 steps.\")\n",
    "operations = [ops for ops in steps[:-24].split(',') if ops != '']\n",
    "print(f\"The cube is solved in {len(operations)} steps: {','.join(operations)}\")"
   ]
  },
  {
   "cell_type": "code",
   "execution_count": 7,
   "id": "3b418177",
   "metadata": {},
   "outputs": [
    {
     "name": "stdout",
     "output_type": "stream",
     "text": [
      "[',top_clockwise,wgbboowrwyborrwobyggryyg', ',top_counter_clockwise,bbgwrrwrbybooowowyggryyg', ',front_clockwise,gbgrwbrywobowyworrgyboyg', ',front_counter_clockwise,gbobyrbwyorowyworbgwrgyg', ',right_clockwise,gywrbywgbooobyborrggrwyw', ',right_counter_clockwise,gwwwbbwbooobgyyorrggryyr']\n",
      "[',top_clockwise,,top_clockwise,bwbgwywrrrbobywoooggryyg', ',top_clockwise,,front_clockwise,wggyworobyborrwobrgybwyg', ',top_clockwise,,front_counter_clockwise,wgwborowyyrorrwobbgbygyg', ',top_clockwise,,right_clockwise,wobroywgbwoybrgobyggrwyr', ',top_clockwise,,right_counter_clockwise,wwbrogwbyowbgryobyggroyr', ',top_counter_clockwise,,top_counter_clockwise,bwbgwywrrrbobywoooggryyg', ',top_counter_clockwise,,front_clockwise,bbgywrrrgywooowowrgybbyg', ',top_counter_clockwise,,front_counter_clockwise,bbbbrrrwyyrooowowwggygyg', ',top_counter_clockwise,,right_clockwise,brgrrywgbboywobowyggrwyo', ',top_counter_clockwise,,right_counter_clockwise,bwgorbwwyobbgoyowyggrryr', ',front_clockwise,,top_clockwise,ggrbworywyborrwowbgyboyg', ',front_clockwise,,top_counter_clockwise,brggrrrywbbowowowygyboyg', ',front_clockwise,,front_clockwise,gbyrrwybgorowyworbgobwyg', ',front_clockwise,,right_clockwise,gbgyworgbwooryborrgybwyw', ',front_clockwise,,right_counter_clockwise,gwgwwbrroowbgyoorrgybbyy', ',front_counter_clockwise,,top_clockwise,ogbbyobwwyrorbwoyrgwrgyg', ',front_counter_clockwise,,top_counter_clockwise,bbgorbbwyrroyowowygwrgyg', ',front_counter_clockwise,,front_counter_clockwise,gbyrrwybgorowyworbgobwyg', ',front_counter_clockwise,,right_clockwise,growygbgryoobyborbgwrwyw', ',front_counter_clockwise,,right_counter_clockwise,gwowybbbooyrgygorbgwrryw', ',right_clockwise,,top_clockwise,wgrybowgbyoorrbobyggrwyw', ',right_clockwise,,top_counter_clockwise,yrgwrrwgbyoobobobyggrwyw', ',right_clockwise,,front_clockwise,gygrwbgyworobyborrgwobyw', ',right_clockwise,,front_counter_clockwise,gyboygbwworobyborrgwrgyw', ',right_clockwise,,right_clockwise,gywgbwwwobooryyorrggrbyb', ',right_counter_clockwise,,top_clockwise,wgwwoowbgyobrryobbggryyr', ',right_counter_clockwise,,top_counter_clockwise,wwgwrrwbbbobooyogyggryyr', ',right_counter_clockwise,,front_clockwise,gwgrwbbbwowbgyyorrgyooyr', ',right_counter_clockwise,,front_counter_clockwise,gwoobbbwyorbgyyorwgwrgyr', ',right_counter_clockwise,,right_counter_clockwise,gywgbwwwobooryyorrggrbyb']\n",
      "[',top_clockwise,,top_clockwise,,front_clockwise,bwgowwrybrgobywoorgybryg', ',top_clockwise,,top_clockwise,,front_counter_clockwise,bwrbyrwwyrrobywooggbogyg', ',top_clockwise,,top_clockwise,,right_clockwise,bybrwywgbrorgywoooggrwyb', ',top_clockwise,,top_clockwise,,right_counter_clockwise,bwbbwwwgrorbgyyoooggryyr', ',top_clockwise,,front_clockwise,,top_clockwise,gwygbyrorrbobrwowogybwyg', ',top_clockwise,,front_clockwise,,top_counter_clockwise,gywgbrrowobobyworrgybwyg', ',top_clockwise,,front_clockwise,,front_clockwise,wgyrrwoogyyorrwobbgwbbyg', ',top_clockwise,,front_clockwise,,right_clockwise,wogowwrgbboyyrgobrgybwyr', ',top_clockwise,,front_clockwise,,right_counter_clockwise,wwgrwgryyobbgrwobrgyboyo', ',top_clockwise,,front_counter_clockwise,,top_clockwise,wwbgyyowrrrobbwoorgbygyg', ',top_clockwise,,front_counter_clockwise,,top_counter_clockwise,gbwwbboworroyyworrgbygyg', ',top_clockwise,,front_counter_clockwise,,front_counter_clockwise,wgyrrwoogyyorrwobbgwbbyg', ',top_clockwise,,front_counter_clockwise,,right_clockwise,wrwwogogryoybrgobbgbywyr', ',top_clockwise,,front_counter_clockwise,,right_counter_clockwise,wwwrogobyoyrgrgobbgbyryw', ',top_clockwise,,right_clockwise,,top_clockwise,bwrobwwgbroybygooyggrwyr', ',top_clockwise,,right_clockwise,,top_counter_clockwise,orwbbywgoyoybwgobrggrwyr', ',top_clockwise,,right_clockwise,,front_clockwise,wogywogybwrybrgobrgwobyr', ',top_clockwise,,right_clockwise,,front_counter_clockwise,woboygowwwrybrgobrgbygyr', ',top_clockwise,,right_clockwise,,right_clockwise,wybgowwrobywrroobyggrgyb', ',top_clockwise,,right_counter_clockwise,,top_clockwise,bwrwyowbgrwbbyyoogggroyr', ',top_clockwise,,right_counter_clockwise,,top_counter_clockwise,wrwbbywbogwbyoyogrggroyr', ',top_clockwise,,right_counter_clockwise,,front_clockwise,wwgywobgborbgryobrgowyyr', ',top_clockwise,,right_counter_clockwise,,front_counter_clockwise,wwywgbowoorbgryobrgbygyr', ',top_clockwise,,right_counter_clockwise,,right_counter_clockwise,wybgowwrobywrroobyggrgyb', ',top_counter_clockwise,,top_counter_clockwise,,front_clockwise,bwgowwrybrgobywoorgybryg', ',top_counter_clockwise,,top_counter_clockwise,,front_counter_clockwise,bwrbyrwwyrrobywooggbogyg', ',top_counter_clockwise,,top_counter_clockwise,,right_clockwise,bybrwywgbrorgywoooggrwyb', ',top_counter_clockwise,,top_counter_clockwise,,right_counter_clockwise,bwbbwwwgrorbgyyoooggryyr', ',top_counter_clockwise,,front_clockwise,,top_clockwise,gbybgyrroowowrwowrgybbyg', ',top_counter_clockwise,,front_clockwise,,top_counter_clockwise,bybgwrrrwrwogywooogybbyg', ',top_counter_clockwise,,front_clockwise,,front_clockwise,bbyrrwrrgyyooowowbgbwgyg', ',top_counter_clockwise,,front_clockwise,,right_clockwise,brgrwbrgwgoyyobowrgybwyo', ',top_counter_clockwise,,front_clockwise,,right_counter_clockwise,bwgowbryyogwgobowrgybryr', ',top_counter_clockwise,,front_counter_clockwise,,top_clockwise,bbbbyyrwoorowwworrggygyg', ',top_counter_clockwise,,front_counter_clockwise,,top_counter_clockwise,bbbbwwrwrrroyywoooggygyg', ',top_counter_clockwise,,front_counter_clockwise,,front_counter_clockwise,bbyrrwrrgyyooowowbgbwgyg', ',top_counter_clockwise,,front_counter_clockwise,,right_clockwise,brbwrgrgryoybobowwggywyo', ',top_counter_clockwise,,front_counter_clockwise,,right_counter_clockwise,bwborbrbyoyrgogowwggyryw', ',top_counter_clockwise,,right_clockwise,,top_clockwise,gbrrbbwgwooywyboryggrwyo', ',top_counter_clockwise,,right_clockwise,,top_counter_clockwise,rrbgwywgryoybbbowoggrwyo', ',top_counter_clockwise,,right_clockwise,,front_clockwise,brgywrgygbrywobowrgwobyo', ',top_counter_clockwise,,right_clockwise,,front_counter_clockwise,brboygrwwbrywobowrggygyo', ',top_counter_clockwise,,right_clockwise,,right_clockwise,byggrwwoobybrorowyggrbyw', ',top_counter_clockwise,,right_counter_clockwise,,top_clockwise,gbowyowwgobbwyyorbggrryr', ',top_counter_clockwise,,right_counter_clockwise,,top_counter_clockwise,wobgwywwrbbbyoyogoggrryr', ',top_counter_clockwise,,right_counter_clockwise,,front_clockwise,bwgywrwbgoobgoyowrgrbyyr', ',top_counter_clockwise,,right_counter_clockwise,,front_counter_clockwise,bwybbwrwrorbgoyowoggygyr', ',top_counter_clockwise,,right_counter_clockwise,,right_counter_clockwise,byggrwwoobybrorowyggrbyw', ',front_clockwise,,top_clockwise,,top_clockwise,rgbgwyryrrbowbwowogyboyg', ',front_clockwise,,top_clockwise,,front_clockwise,ggybrwyoryborrwowbgobwyg', ',front_clockwise,,top_clockwise,,front_counter_clockwise,ggwboywroyborrwowbgrbyyg', ',front_clockwise,,top_clockwise,,right_clockwise,goryworgbwoybrgowbgybwyr', ',front_clockwise,,top_clockwise,,right_counter_clockwise,gwrrwgrbyowbgroowbgyboyy', ',front_clockwise,,top_counter_clockwise,,top_counter_clockwise,rgbgwyryrrbowbwowogyboyg', ',front_clockwise,,top_counter_clockwise,,front_clockwise,bryyrryrgbgowowowbgobwyg', ',front_clockwise,,top_counter_clockwise,,front_counter_clockwise,brwbryrrobbowowowgggyyyg', ',front_clockwise,,top_counter_clockwise,,right_clockwise,brgyrorgbwobgorowygybwyw', ',front_clockwise,,top_counter_clockwise,,right_counter_clockwise,bwgwrrrgbowbgooowygybryy', ',front_clockwise,,front_clockwise,,top_clockwise,ygrbgoybwyrorbworwgobwyg', ',front_clockwise,,front_clockwise,,top_counter_clockwise,brgyrbybrwrogowowygobwyg', ',front_clockwise,,front_clockwise,,right_clockwise,gwybrwygrgooryborbgobwyw', ',front_clockwise,,front_clockwise,,right_counter_clockwise,gwywrbyroogrgyworbgobwyb', ',front_clockwise,,right_clockwise,,top_clockwise,ggybbwrgryoorrbowogybwyw', ',front_clockwise,,right_clockwise,,top_counter_clockwise,byggrrrgwooobwborygybwyw', ',front_clockwise,,right_clockwise,,front_clockwise,gbyrrwgogwyoryborbgwobyw', ',front_clockwise,,right_clockwise,,front_counter_clockwise,gbboogwrwwboryboryggryyw', ',front_clockwise,,right_clockwise,,right_clockwise,goggwwrwobowyyborrgybbyr', ',front_clockwise,,right_counter_clockwise,,top_clockwise,ggwwoorrgywbrroowbgybbyy', ',front_clockwise,,right_counter_clockwise,,top_counter_clockwise,wwggrrrrwbwboooogygybbyy', ',front_clockwise,,right_counter_clockwise,,front_clockwise,gwyrrwrbgowbgyoorbgbwoyy', ',front_clockwise,,right_counter_clockwise,,front_counter_clockwise,gwowbrwrbobbgyoorwggryyy', ',front_clockwise,,right_counter_clockwise,,right_counter_clockwise,goggwwrwobowyyborrgybbyr', ',front_counter_clockwise,,top_clockwise,,top_clockwise,bobgwybwrbroyrwoyogwrgyg', ',front_counter_clockwise,,top_clockwise,,front_clockwise,ogwrbywobyborbwoyrggrwyg', ',front_counter_clockwise,,top_clockwise,,front_counter_clockwise,ogwrowybgyrorbwoybgbrwyg', ',front_counter_clockwise,,top_clockwise,,right_clockwise,oobwygbgrwoybbgoyrgwrwyr', ',front_counter_clockwise,,top_clockwise,,right_counter_clockwise,owbrygbbyowrgbgoyrgwroyw', ',front_counter_clockwise,,top_counter_clockwise,,top_counter_clockwise,bobgwybwrbroyrwoyogwrgyg', ',front_counter_clockwise,,top_counter_clockwise,,front_clockwise,bbwybrwbgrooyowowrggryyg', ',front_counter_clockwise,,top_counter_clockwise,,front_counter_clockwise,bbyrbwrbgrroyowowoggywyg', ',front_counter_clockwise,,top_counter_clockwise,,right_clockwise,bbgwrgbgryoroobowygwrwyy', ',front_counter_clockwise,,top_counter_clockwise,,right_counter_clockwise,bwgyrbboroyrgogowygwrbyw', ',front_counter_clockwise,,front_counter_clockwise,,top_clockwise,ygrbgoybwyrorbworwgobwyg', ',front_counter_clockwise,,front_counter_clockwise,,top_counter_clockwise,brgyrbybrwrogowowygobwyg', ',front_counter_clockwise,,front_counter_clockwise,,right_clockwise,gwybrwygrgooryborbgobwyw', ',front_counter_clockwise,,front_counter_clockwise,,right_counter_clockwise,gwywrbyroogrgyworbgobwyb', ',front_counter_clockwise,,right_clockwise,,top_clockwise,ogwrrybgbyoorbboyggwrwyw', ',front_counter_clockwise,,right_clockwise,,top_counter_clockwise,rwgorbbgygoorybobygwrwyw', ',front_counter_clockwise,,right_clockwise,,front_clockwise,grwbbyggoywobyborrgworyw', ',front_counter_clockwise,,right_clockwise,,front_counter_clockwise,grroggybwyrobyborwgobwyw', ',front_counter_clockwise,,right_clockwise,,right_clockwise,ggogywbworoywyrorbgwrbyb', ',front_counter_clockwise,,right_counter_clockwise,,top_clockwise,ogwwoobbgyyrrbgoybgwrryw', ',front_counter_clockwise,,right_counter_clockwise,,top_counter_clockwise,wwgorbbbybyroogogygwrryw', ',front_counter_clockwise,,right_counter_clockwise,,front_clockwise,gwwbbybboowrgygorrgryoyw', ',front_counter_clockwise,,right_counter_clockwise,,front_counter_clockwise,gwoybbybrorrgygorwgobwyw', ',front_counter_clockwise,,right_counter_clockwise,,right_counter_clockwise,ggogywbworoywyrorbgwrbyb', ',right_clockwise,,top_clockwise,,top_clockwise,rwygbywgrroobyboboggrwyw', ',right_clockwise,,top_clockwise,,front_clockwise,wggywbgoryyorrbobrgwobyw', ',right_clockwise,,top_clockwise,,front_counter_clockwise,wgboogbwwyrorrbobygrygyw', ',right_clockwise,,top_clockwise,,right_clockwise,worgbwwwoboyyrgobyggrbyr', ',right_clockwise,,top_clockwise,,right_counter_clockwise,wbrrbgwyyobowrwobyggroyg', ',right_clockwise,,top_counter_clockwise,,top_counter_clockwise,rwygbywgrroobyboboggrwyw', ',right_clockwise,,top_counter_clockwise,,front_clockwise,yrgywrgrgywobobobrgwobyw', ',right_clockwise,,top_counter_clockwise,,front_counter_clockwise,yrborgrwwyrobobobwggygyw', ',right_clockwise,,top_counter_clockwise,,right_clockwise,yrggrwwwoboyworobyggrbyb', ',right_clockwise,,top_counter_clockwise,,right_counter_clockwise,ybgbrrwwyobowowobyggrryg', ',right_clockwise,,front_clockwise,,top_clockwise,ggrywogybyrorrbowbgwobyw', ',right_clockwise,,front_clockwise,,top_counter_clockwise,yrggrrgywbrowobobygwobyw', ',right_clockwise,,front_clockwise,,front_clockwise,gywrgwybgorobyborogbrwyw', ',right_clockwise,,front_clockwise,,right_clockwise,gbgywbgwrwooryyorrgwobyb', ',right_clockwise,,front_clockwise,,right_counter_clockwise,gbgbwygroowrwyborrgwobyy', ',right_clockwise,,front_counter_clockwise,,top_clockwise,bgoywobwbyrorrboyggwrgyw', ',right_clockwise,,front_counter_clockwise,,top_counter_clockwise,yogbrrbwygrowobobygwrgyw', ',right_clockwise,,front_counter_clockwise,,front_counter_clockwise,gywrgwybgorobyborogbrwyw', ',right_clockwise,,front_counter_clockwise,,right_clockwise,ggbwygbwrwoooyyorrgwrbyb', ',right_clockwise,,front_counter_clockwise,,right_counter_clockwise,gbbbyybooowrwygorrgwrgyw', ',right_clockwise,,right_clockwise,,top_clockwise,wggyobwwryoorryobwggrbyb', ',right_clockwise,,right_clockwise,,top_counter_clockwise,yggwrrwwbwooobyoryggrbyb', ',right_clockwise,,right_clockwise,,front_clockwise,gygrwbwwwbgoryyorrgbooyb', ',right_clockwise,,right_clockwise,,front_counter_clockwise,gyoowwbwbbroryyorggwrgyb', ',right_counter_clockwise,,top_clockwise,,top_clockwise,wwwggywbrrobbbyoooggryyr', ',right_counter_clockwise,,top_clockwise,,front_clockwise,wggbwobowywbrryobrgyogyr', ',right_counter_clockwise,,top_clockwise,,front_counter_clockwise,wggoobowyyrbrryobwgwbgyr', ',right_counter_clockwise,,top_clockwise,,right_clockwise,wowboywrogbywrgobbggryyr', ',right_counter_clockwise,,top_clockwise,,right_counter_clockwise,wywrogwwybgorryobbggroyb', ',right_counter_clockwise,,top_counter_clockwise,,top_counter_clockwise,wwwggywbrrobbbyoooggryyr', ',right_counter_clockwise,,top_counter_clockwise,,front_clockwise,wwgywrbrgbwbooyogrgyobyr', ',right_counter_clockwise,,top_counter_clockwise,,front_counter_clockwise,wwborbrwybrbooyogwggygyr', ',right_counter_clockwise,,top_counter_clockwise,,right_clockwise,wrgbrywrobbbwowogyggryyo', ',right_counter_clockwise,,top_counter_clockwise,,right_counter_clockwise,wygorwwwbbboroyogyggrryb', ',right_counter_clockwise,,front_clockwise,,top_clockwise,ggrwwobbgywbrryowbgyooyr', ',right_counter_clockwise,,front_clockwise,,top_counter_clockwise,wrggrrbbwbwbwoyogygyooyr', ',right_counter_clockwise,,front_clockwise,,front_clockwise,gwyrbwbbgorbgyyorogowwyr', ',right_counter_clockwise,,front_clockwise,,right_clockwise,gbgbwobrwwboryworrgyoyyg', ',right_counter_clockwise,,front_clockwise,,right_counter_clockwise,gyggwwbrobwwryoorrgyobyb', ',right_counter_clockwise,,front_counter_clockwise,,top_clockwise,ogowyobwgyrbrwyobbgwrgyr', ',right_counter_clockwise,,front_counter_clockwise,,top_counter_clockwise,wogorwbwbbrbyoyogygwrgyr', ',right_counter_clockwise,,front_counter_clockwise,,front_counter_clockwise,gwyrbwbbgorbgyyorogowwyr', ',right_counter_clockwise,,front_counter_clockwise,,right_clockwise,gbowbgbrrybooyworwgwryyg', ',right_counter_clockwise,,front_counter_clockwise,,right_counter_clockwise,gyogbwboobyrrygorwgwrbyw', ',right_counter_clockwise,,right_counter_clockwise,,top_clockwise,wggyobwwryoorryobwggrbyb', ',right_counter_clockwise,,right_counter_clockwise,,top_counter_clockwise,yggwrrwwbwooobyoryggrbyb', ',right_counter_clockwise,,right_counter_clockwise,,front_clockwise,gygrwbwwwbgoryyorrgbooyb', ',right_counter_clockwise,,right_counter_clockwise,,front_counter_clockwise,gyoowwbwbbroryyorggwrgyb']\n",
      "The cube is solved in 4 steps: front_clockwise,right_counter_clockwise,top_counter_clockwise,front_counter_clockwise\n"
     ]
    }
   ],
   "source": [
    "cube_str = 'gbwbbywroobowyworrggryyg'\n",
    "steps = solve_rubic_cube(cube_str)\n",
    "if steps == '':\n",
    "    print(f\"The cube {cube_str} cannot be solved in 12 steps.\")\n",
    "operations = [ops for ops in steps[:-24].split(',') if ops != '']\n",
    "print(f\"The cube is solved in {len(operations)} steps: {','.join(operations)}\")"
   ]
  },
  {
   "cell_type": "code",
   "execution_count": 168,
   "id": "e8f9ad74",
   "metadata": {},
   "outputs": [
    {
     "ename": "Exception",
     "evalue": "Invalid input rrrrrrrrrrrrwwwwrrrrwwww.",
     "output_type": "error",
     "traceback": [
      "\u001b[1;31m---------------------------------------------------------------------------\u001b[0m",
      "\u001b[1;31mException\u001b[0m                                 Traceback (most recent call last)",
      "\u001b[1;32m~\\AppData\\Local\\Temp/ipykernel_16604/1314390576.py\u001b[0m in \u001b[0;36m<module>\u001b[1;34m\u001b[0m\n\u001b[0;32m      1\u001b[0m \u001b[0mcube_str\u001b[0m \u001b[1;33m=\u001b[0m \u001b[1;34m'rrrrrrrrrrrrwwwwrrrrwwww'\u001b[0m\u001b[1;33m\u001b[0m\u001b[1;33m\u001b[0m\u001b[0m\n\u001b[1;32m----> 2\u001b[1;33m \u001b[0msteps\u001b[0m \u001b[1;33m=\u001b[0m \u001b[0msolve_rubic_cube\u001b[0m\u001b[1;33m(\u001b[0m\u001b[0mcube_str\u001b[0m\u001b[1;33m)\u001b[0m\u001b[1;33m\u001b[0m\u001b[1;33m\u001b[0m\u001b[0m\n\u001b[0m\u001b[0;32m      3\u001b[0m \u001b[1;32mif\u001b[0m \u001b[0msteps\u001b[0m \u001b[1;33m==\u001b[0m \u001b[1;33m-\u001b[0m\u001b[1;36m1\u001b[0m\u001b[1;33m:\u001b[0m\u001b[1;33m\u001b[0m\u001b[1;33m\u001b[0m\u001b[0m\n\u001b[0;32m      4\u001b[0m     \u001b[0mprint\u001b[0m\u001b[1;33m(\u001b[0m\u001b[1;34mf\"The cube {cube_str} cannot be solved in 12 steps.\"\u001b[0m\u001b[1;33m)\u001b[0m\u001b[1;33m\u001b[0m\u001b[1;33m\u001b[0m\u001b[0m\n\u001b[0;32m      5\u001b[0m \u001b[0mprint\u001b[0m\u001b[1;33m(\u001b[0m\u001b[1;34mf\"The cube is solved in {steps} steps\"\u001b[0m\u001b[1;33m)\u001b[0m\u001b[1;33m\u001b[0m\u001b[1;33m\u001b[0m\u001b[0m\n",
      "\u001b[1;32m~\\AppData\\Local\\Temp/ipykernel_16604/2901471550.py\u001b[0m in \u001b[0;36msolve_rubic_cube\u001b[1;34m(cube_str)\u001b[0m\n\u001b[0;32m      5\u001b[0m     \u001b[1;32mfor\u001b[0m \u001b[0mc\u001b[0m \u001b[1;32min\u001b[0m \u001b[1;34m'rgbwoy'\u001b[0m\u001b[1;33m:\u001b[0m\u001b[1;33m\u001b[0m\u001b[1;33m\u001b[0m\u001b[0m\n\u001b[0;32m      6\u001b[0m         \u001b[1;32mif\u001b[0m \u001b[0mlen\u001b[0m\u001b[1;33m(\u001b[0m\u001b[1;33m[\u001b[0m\u001b[0mx\u001b[0m \u001b[1;32mfor\u001b[0m \u001b[0mx\u001b[0m \u001b[1;32min\u001b[0m \u001b[0mcube_str\u001b[0m \u001b[1;32mif\u001b[0m \u001b[0mx\u001b[0m \u001b[1;33m==\u001b[0m \u001b[1;34m'w'\u001b[0m\u001b[1;33m]\u001b[0m\u001b[1;33m)\u001b[0m \u001b[1;33m!=\u001b[0m \u001b[1;36m4\u001b[0m\u001b[1;33m:\u001b[0m\u001b[1;33m\u001b[0m\u001b[1;33m\u001b[0m\u001b[0m\n\u001b[1;32m----> 7\u001b[1;33m             \u001b[1;32mraise\u001b[0m \u001b[0mException\u001b[0m\u001b[1;33m(\u001b[0m\u001b[1;34mf'Invalid input {cube_str}.'\u001b[0m\u001b[1;33m)\u001b[0m\u001b[1;33m\u001b[0m\u001b[1;33m\u001b[0m\u001b[0m\n\u001b[0m\u001b[0;32m      8\u001b[0m \u001b[1;33m\u001b[0m\u001b[0m\n\u001b[0;32m      9\u001b[0m     \u001b[1;31m# Check whether the input is already solved\u001b[0m\u001b[1;33m\u001b[0m\u001b[1;33m\u001b[0m\u001b[0m\n",
      "\u001b[1;31mException\u001b[0m: Invalid input rrrrrrrrrrrrwwwwrrrrwwww."
     ]
    }
   ],
   "source": [
    "cube_str = 'rrrrrrrrrrrrwwwwrrrrwwww'\n",
    "steps = solve_rubic_cube(cube_str)\n",
    "if steps == -1:\n",
    "    print(f\"The cube {cube_str} cannot be solved in 12 steps.\")\n",
    "print(f\"The cube is solved in {steps} steps\")"
   ]
  },
  {
   "cell_type": "code",
   "execution_count": null,
   "id": "b0971f5e",
   "metadata": {},
   "outputs": [],
   "source": []
  }
 ],
 "metadata": {
  "kernelspec": {
   "display_name": "Python 3 (ipykernel)",
   "language": "python",
   "name": "python3"
  },
  "language_info": {
   "codemirror_mode": {
    "name": "ipython",
    "version": 3
   },
   "file_extension": ".py",
   "mimetype": "text/x-python",
   "name": "python",
   "nbconvert_exporter": "python",
   "pygments_lexer": "ipython3",
   "version": "3.9.7"
  }
 },
 "nbformat": 4,
 "nbformat_minor": 5
}
