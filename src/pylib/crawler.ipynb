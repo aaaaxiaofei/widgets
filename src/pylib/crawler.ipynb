{
 "cells": [
  {
   "attachments": {},
   "cell_type": "markdown",
   "metadata": {},
   "source": [
    "# Crawler"
   ]
  },
  {
   "cell_type": "code",
   "execution_count": 2,
   "metadata": {},
   "outputs": [
    {
     "data": {
      "text/plain": [
       "'\\nURI = URL + URN\\nrequest:\\n    - GET: parameter is embeded in the URL; At most 1024B\\n    - POST: parameters are passed through data(table); No size limit\\n    - HEAD:\\n    - PUT:\\n    - DELETE:\\n    - ...\\n\\n    request body needs correct content type\\n\\nResponse\\n    - Response code (100, 101, 200, ...404...)\\n    - Response Header\\n    - Responnse body\\n\\nHTTP2.0\\n- 二进制分帧层\\n'"
      ]
     },
     "execution_count": 2,
     "metadata": {},
     "output_type": "execute_result"
    }
   ],
   "source": [
    "'''\n",
    "URI = URL + URN\n",
    "request:\n",
    "    - GET: parameter is embeded in the URL; At most 1024B\n",
    "    - POST: parameters are passed through data(table); No size limit\n",
    "    - HEAD:\n",
    "    - PUT:\n",
    "    - DELETE:\n",
    "    - ...\n",
    "\n",
    "    request body needs correct content type\n",
    "\n",
    "Response\n",
    "    - Response code (100, 101, 200, ...404...)\n",
    "    - Response Header\n",
    "    - Responnse body\n",
    "\n",
    "HTTP2.0\n",
    "- 二进制分帧层\n",
    "'''"
   ]
  },
  {
   "cell_type": "code",
   "execution_count": 3,
   "metadata": {},
   "outputs": [
    {
     "data": {
      "text/plain": [
       "' Web\\nHTML, JavaScript, CSS\\n'"
      ]
     },
     "execution_count": 3,
     "metadata": {},
     "output_type": "execute_result"
    }
   ],
   "source": [
    "''' Web\n",
    "HTML, JavaScript, CSS\n",
    "'''"
   ]
  },
  {
   "cell_type": "code",
   "execution_count": 4,
   "metadata": {},
   "outputs": [
    {
     "data": {
      "text/plain": [
       "' Crawler\\nurllib, request cannot get/decode Ajax backend .js scripts. Need help from Selenium, Splash, Pyppeteer, Playwright to simulate JS env.\\n\\n'"
      ]
     },
     "execution_count": 4,
     "metadata": {},
     "output_type": "execute_result"
    }
   ],
   "source": [
    "''' Crawler\n",
    "urllib, request cannot get/decode Ajax backend .js scripts. Need help from Selenium, Splash, Pyppeteer, Playwright to simulate JS env.\n",
    "\n",
    "'''"
   ]
  },
  {
   "cell_type": "code",
   "execution_count": null,
   "metadata": {},
   "outputs": [],
   "source": [
    "''' Session and Cookie\n",
    "Session is on the server side; Cookie is on the client side\n",
    "'''"
   ]
  }
 ],
 "metadata": {
  "kernelspec": {
   "display_name": "base",
   "language": "python",
   "name": "python3"
  },
  "language_info": {
   "codemirror_mode": {
    "name": "ipython",
    "version": 3
   },
   "file_extension": ".py",
   "mimetype": "text/x-python",
   "name": "python",
   "nbconvert_exporter": "python",
   "pygments_lexer": "ipython3",
   "version": "3.10.9"
  },
  "orig_nbformat": 4
 },
 "nbformat": 4,
 "nbformat_minor": 2
}
